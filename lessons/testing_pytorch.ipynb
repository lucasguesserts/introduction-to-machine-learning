{
 "cells": [
  {
   "cell_type": "code",
   "execution_count": 13,
   "metadata": {},
   "outputs": [
    {
     "name": "stdout",
     "output_type": "stream",
     "text": [
      "Batch shape: torch.Size([32, 3, 64, 64]), Labels shape: torch.Size([32])\n",
      "Batch shape: torch.Size([32, 3, 64, 64]), Labels shape: torch.Size([32])\n",
      "Batch shape: torch.Size([32, 3, 64, 64]), Labels shape: torch.Size([32])\n",
      "Batch shape: torch.Size([32, 3, 64, 64]), Labels shape: torch.Size([32])\n",
      "Batch shape: torch.Size([32, 3, 64, 64]), Labels shape: torch.Size([32])\n",
      "Batch shape: torch.Size([32, 3, 64, 64]), Labels shape: torch.Size([32])\n",
      "Batch shape: torch.Size([32, 3, 64, 64]), Labels shape: torch.Size([32])\n",
      "Batch shape: torch.Size([32, 3, 64, 64]), Labels shape: torch.Size([32])\n",
      "Batch shape: torch.Size([32, 3, 64, 64]), Labels shape: torch.Size([32])\n",
      "Batch shape: torch.Size([32, 3, 64, 64]), Labels shape: torch.Size([32])\n",
      "Batch shape: torch.Size([32, 3, 64, 64]), Labels shape: torch.Size([32])\n",
      "Batch shape: torch.Size([32, 3, 64, 64]), Labels shape: torch.Size([32])\n",
      "Batch shape: torch.Size([32, 3, 64, 64]), Labels shape: torch.Size([32])\n",
      "Batch shape: torch.Size([32, 3, 64, 64]), Labels shape: torch.Size([32])\n",
      "Batch shape: torch.Size([32, 3, 64, 64]), Labels shape: torch.Size([32])\n",
      "Batch shape: torch.Size([32, 3, 64, 64]), Labels shape: torch.Size([32])\n",
      "Batch shape: torch.Size([32, 3, 64, 64]), Labels shape: torch.Size([32])\n",
      "Batch shape: torch.Size([32, 3, 64, 64]), Labels shape: torch.Size([32])\n",
      "Batch shape: torch.Size([32, 3, 64, 64]), Labels shape: torch.Size([32])\n",
      "Batch shape: torch.Size([32, 3, 64, 64]), Labels shape: torch.Size([32])\n",
      "Batch shape: torch.Size([32, 3, 64, 64]), Labels shape: torch.Size([32])\n",
      "Batch shape: torch.Size([32, 3, 64, 64]), Labels shape: torch.Size([32])\n",
      "Batch shape: torch.Size([32, 3, 64, 64]), Labels shape: torch.Size([32])\n",
      "Batch shape: torch.Size([32, 3, 64, 64]), Labels shape: torch.Size([32])\n",
      "Batch shape: torch.Size([32, 3, 64, 64]), Labels shape: torch.Size([32])\n",
      "Batch shape: torch.Size([32, 3, 64, 64]), Labels shape: torch.Size([32])\n",
      "Batch shape: torch.Size([32, 3, 64, 64]), Labels shape: torch.Size([32])\n",
      "Batch shape: torch.Size([32, 3, 64, 64]), Labels shape: torch.Size([32])\n",
      "Batch shape: torch.Size([32, 3, 64, 64]), Labels shape: torch.Size([32])\n",
      "Batch shape: torch.Size([32, 3, 64, 64]), Labels shape: torch.Size([32])\n",
      "Batch shape: torch.Size([32, 3, 64, 64]), Labels shape: torch.Size([32])\n",
      "Batch shape: torch.Size([8, 3, 64, 64]), Labels shape: torch.Size([8])\n"
     ]
    }
   ],
   "source": [
    "import torch\n",
    "from torch.utils.data import DataLoader, TensorDataset\n",
    "\n",
    "# sample dummy image tensors\n",
    "image_data = torch.randn(1000, 3, 64, 64) \n",
    "labels = torch.randint(0, 10, (1000,))  \n",
    "\n",
    "dataset = TensorDataset(image_data, labels)\n",
    "\n",
    "#Split into batches\n",
    "batch_size = 32\n",
    "dataloader = DataLoader(dataset, batch_size=batch_size, shuffle=True)\n",
    "\n",
    "#to view every iterated batch\n",
    "for batch_images, batch_labels in dataloader:\n",
    "    print(f\"Batch shape: {batch_images.shape}, Labels shape: {batch_labels.shape}\")"
   ]
  },
  {
   "cell_type": "code",
   "execution_count": 40,
   "metadata": {},
   "outputs": [
    {
     "name": "stdout",
     "output_type": "stream",
     "text": [
      "First batch with shuffle=True: tensor([17, 64,  3, 71, 36, 23, 13, 44, 49, 90])\n",
      "First batch with shuffle=False: tensor([0, 1, 2, 3, 4, 5, 6, 7, 8, 9])\n"
     ]
    }
   ],
   "source": [
    "import torch\n",
    "from torch.utils.data import DataLoader, TensorDataset\n",
    "\n",
    "# Create a synthetic dataset of integers from 0 to 99\n",
    "data = torch.arange(0, 100)\n",
    "# Create dummy targets (just for the sake of having them)\n",
    "targets = torch.zeros(100)\n",
    "\n",
    "# Create a TensorDataset\n",
    "dataset = TensorDataset(data, targets)\n",
    "\n",
    "# DataLoader with shuffle=True\n",
    "dataloader_shuffle = DataLoader(dataset, batch_size=10, shuffle=True)\n",
    "\n",
    "# DataLoader with shuffle=False\n",
    "dataloader_noshuffle = DataLoader(dataset, batch_size=10, shuffle=False)\n",
    "\n",
    "# Function to print the first batch of the dataloader\n",
    "def print_first_batch(dataloader, shuffle_status):\n",
    "    for batch in dataloader:\n",
    "        data, _ = batch\n",
    "        print(f\"First batch with shuffle={shuffle_status}: {data}\")\n",
    "        break  # We break the loop to print only the first batch\n",
    "\n",
    "# Print the first batch of each DataLoader to compare\n",
    "print_first_batch(dataloader_shuffle, shuffle_status=True)\n",
    "print_first_batch(dataloader_noshuffle, shuffle_status=False)"
   ]
  }
 ],
 "metadata": {
  "kernelspec": {
   "display_name": "venv",
   "language": "python",
   "name": "python3"
  },
  "language_info": {
   "codemirror_mode": {
    "name": "ipython",
    "version": 3
   },
   "file_extension": ".py",
   "mimetype": "text/x-python",
   "name": "python",
   "nbconvert_exporter": "python",
   "pygments_lexer": "ipython3",
   "version": "3.12.4"
  }
 },
 "nbformat": 4,
 "nbformat_minor": 2
}
